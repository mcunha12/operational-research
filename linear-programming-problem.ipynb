{
 "cells": [
  {
   "cell_type": "code",
   "execution_count": 1,
   "id": "7002c759",
   "metadata": {},
   "outputs": [],
   "source": [
    "# maximizar z=3000x+5000y\n",
    "# sujeito a\n",
    "# x<=4\n",
    "# 2y<=12\n",
    "# 3x+2y<=18\n",
    "# x>=0\n",
    "# y>=0"
   ]
  },
  {
   "cell_type": "code",
   "execution_count": 14,
   "id": "70a1d839",
   "metadata": {},
   "outputs": [],
   "source": [
    "import pulp as plp"
   ]
  },
  {
   "cell_type": "code",
   "execution_count": 15,
   "id": "738d33df",
   "metadata": {},
   "outputs": [],
   "source": [
    "# Definindo o problema\n",
    "\n",
    "maximizar = plp.LpProblem(\"Problema_1\", plp.LpMaximize)"
   ]
  },
  {
   "cell_type": "code",
   "execution_count": 16,
   "id": "ac3e197f",
   "metadata": {},
   "outputs": [],
   "source": [
    "# Definindo as variáveis do problema\n",
    "\n",
    "x = plp.LpVariable('x', lowBound=0, cat='Float')\n",
    "y = plp.LpVariable('y', lowBound=0, cat='Float')"
   ]
  },
  {
   "cell_type": "code",
   "execution_count": 17,
   "id": "2ae130e2",
   "metadata": {},
   "outputs": [],
   "source": [
    "# Escrevendo a função-objetivo\n",
    "\n",
    "maximizar += 3000*x+5000*y"
   ]
  },
  {
   "cell_type": "code",
   "execution_count": 18,
   "id": "c1eb47c8",
   "metadata": {},
   "outputs": [],
   "source": [
    "# Escrevendo as restrições\n",
    "\n",
    "maximizar += x<=4\n",
    "maximizar += 2*y<=12\n",
    "maximizar += 3*x+2*y<=18"
   ]
  },
  {
   "cell_type": "code",
   "execution_count": 19,
   "id": "551cd384",
   "metadata": {
    "scrolled": false
   },
   "outputs": [
    {
     "name": "stdout",
     "output_type": "stream",
     "text": [
      "Welcome to the CBC MILP Solver \n",
      "Version: 2.10.3 \n",
      "Build Date: Dec 15 2019 \n",
      "\n",
      "command line - /Library/Frameworks/Python.framework/Versions/3.11/lib/python3.11/site-packages/pulp/solverdir/cbc/osx/64/cbc /var/folders/jh/z6919xnj2lvg7x32z6f5p2bh0000gn/T/808da327faa347a6babe76bb8b6b2f6c-pulp.mps -max -timeMode elapsed -branch -printingOptions all -solution /var/folders/jh/z6919xnj2lvg7x32z6f5p2bh0000gn/T/808da327faa347a6babe76bb8b6b2f6c-pulp.sol (default strategy 1)\n",
      "At line 2 NAME          MODEL\n",
      "At line 3 ROWS\n",
      "At line 8 COLUMNS\n",
      "At line 15 RHS\n",
      "At line 19 BOUNDS\n",
      "At line 20 ENDATA\n",
      "Problem MODEL has 3 rows, 2 columns and 4 elements\n",
      "Coin0008I MODEL read with 0 errors\n",
      "Option for timeMode changed from cpu to elapsed\n",
      "Presolve 1 (-2) rows, 2 (0) columns and 2 (-2) elements\n",
      "0  Obj -0 Dual inf 10500 (2)\n",
      "1  Obj 36000\n",
      "Optimal - objective value 36000\n",
      "After Postsolve, objective 36000, infeasibilities - dual 0 (0), primal 0 (0)\n",
      "Optimal objective 36000 - 1 iterations time 0.002, Presolve 0.00\n",
      "Option for printingOptions changed from normal to all\n",
      "Total time (CPU seconds):       0.00   (Wallclock seconds):       0.01\n",
      "\n"
     ]
    },
    {
     "data": {
      "text/plain": [
       "1"
      ]
     },
     "execution_count": 19,
     "metadata": {},
     "output_type": "execute_result"
    }
   ],
   "source": [
    "# Resolvendo\n",
    "maximizar.solve()"
   ]
  },
  {
   "cell_type": "code",
   "execution_count": 20,
   "id": "a57d075e",
   "metadata": {},
   "outputs": [],
   "source": [
    "# Output 1 indica que foi encontrada uma solução ótima"
   ]
  },
  {
   "cell_type": "code",
   "execution_count": 22,
   "id": "9907dec9",
   "metadata": {},
   "outputs": [
    {
     "data": {
      "text/plain": [
       "2.0"
      ]
     },
     "execution_count": 22,
     "metadata": {},
     "output_type": "execute_result"
    }
   ],
   "source": [
    "# Resultado variável x\n",
    "\n",
    "x.varValue"
   ]
  },
  {
   "cell_type": "code",
   "execution_count": 23,
   "id": "1a408f27",
   "metadata": {},
   "outputs": [
    {
     "data": {
      "text/plain": [
       "6.0"
      ]
     },
     "execution_count": 23,
     "metadata": {},
     "output_type": "execute_result"
    }
   ],
   "source": [
    "# Resultado variável y\n",
    "\n",
    "y.varValue"
   ]
  },
  {
   "cell_type": "code",
   "execution_count": 24,
   "id": "c34d7cf8",
   "metadata": {},
   "outputs": [
    {
     "data": {
      "text/plain": [
       "36000.0"
      ]
     },
     "execution_count": 24,
     "metadata": {},
     "output_type": "execute_result"
    }
   ],
   "source": [
    "# Valor ótimo\n",
    "\n",
    "plp.value(maximizar.objective)"
   ]
  },
  {
   "cell_type": "code",
   "execution_count": null,
   "id": "62d8e204",
   "metadata": {},
   "outputs": [],
   "source": []
  }
 ],
 "metadata": {
  "kernelspec": {
   "display_name": "Python 3 (ipykernel)",
   "language": "python",
   "name": "python3"
  },
  "language_info": {
   "codemirror_mode": {
    "name": "ipython",
    "version": 3
   },
   "file_extension": ".py",
   "mimetype": "text/x-python",
   "name": "python",
   "nbconvert_exporter": "python",
   "pygments_lexer": "ipython3",
   "version": "3.11.3"
  }
 },
 "nbformat": 4,
 "nbformat_minor": 5
}
