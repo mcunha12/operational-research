{
 "cells": [
  {
   "cell_type": "code",
   "execution_count": 9,
   "id": "9d77763a",
   "metadata": {},
   "outputs": [],
   "source": [
    "# A minimum spanning tree (MST) is a subset of the edges of a connected, edge-weighted graph that connects all the vertices together without any cycles and with the minimum possible total edge weight."
   ]
  },
  {
   "cell_type": "code",
   "execution_count": 14,
   "id": "2d51c0fe",
   "metadata": {},
   "outputs": [],
   "source": [
    "from scipy.sparse import csr_matrix\n",
    "from scipy.sparse.csgraph import minimum_spanning_tree\n",
    "import numpy as np"
   ]
  },
  {
   "cell_type": "code",
   "execution_count": 15,
   "id": "186af86b",
   "metadata": {},
   "outputs": [],
   "source": [
    "# scipy.sparse.csgraph.minimum_spanning_tree(csgraph, overwrite=False)\n",
    "# Return a minimum spanning tree of an undirected graph\n",
    "\n",
    "# A minimum spanning tree is a graph consisting of the subset of edges which together connect all connected nodes, while minimizing the total sum of weights on the edges. This is computed using the Kruskal algorithm.\n",
    "\n",
    "# Parameters\n",
    "# :\n",
    "# csgraph\n",
    "# array_like or sparse matrix, 2 dimensions\n",
    "# The N x N matrix representing an undirected graph over N nodes (see notes below).\n",
    "\n",
    "# overwrite\n",
    "# bool, optional\n",
    "# If true, then parts of the input graph will be overwritten for efficiency. Default is False.\n",
    "\n",
    "# Returns\n",
    "# :\n",
    "# span_tree\n",
    "# csr matrix\n",
    "# The N x N compressed-sparse representation of the undirected minimum spanning tree over the input (see notes below).\n",
    "\n",
    "# This routine uses undirected graphs as input and output. That is, if graph[i, j] and graph[j, i] are both zero, then nodes i and j do not have an edge connecting them. If either is nonzero, then the two are connected by the minimum nonzero value of the two.\n",
    "\n",
    "# This routine loses precision when users input a dense matrix. Small elements < 1E-8 of the dense matrix are rounded to zero. All users should input sparse matrices if possible to avoid it.\n",
    "\n",
    "# If the graph is not connected, this routine returns the minimum spanning forest, i.e. the union of the minimum spanning trees on each connected component.\n",
    "\n",
    "# If multiple valid solutions are possible, output may vary with SciPy and Python version."
   ]
  },
  {
   "cell_type": "code",
   "execution_count": 16,
   "id": "acfcc4af",
   "metadata": {},
   "outputs": [],
   "source": [
    "# Example\n",
    "\n",
    "# from scipy.sparse import csr_matrix\n",
    "# from scipy.sparse.csgraph import minimum_spanning_tree\n",
    "# X = csr_matrix([[0, 8, 0, 3],\n",
    "#                 [0, 0, 2, 5],\n",
    "#                 [0, 0, 0, 6],\n",
    "#                 [0, 0, 0, 0]])\n",
    "# Tcsr = minimum_spanning_tree(X)\n",
    "# Tcsr.toarray().astype(int)\n",
    "# array([[0, 0, 0, 3],\n",
    "#        [0, 0, 2, 5],\n",
    "#        [0, 0, 0, 0],\n",
    "#        [0, 0, 0, 0]])"
   ]
  },
  {
   "cell_type": "code",
   "execution_count": 17,
   "id": "910daeb6",
   "metadata": {},
   "outputs": [],
   "source": [
    "matrix = csr_matrix([[0,7.1,19.5,19.1,25.7],\n",
    "                    [0,0,8.3,16.2,13.2],\n",
    "                    [0,0,0,18.1,5.2],\n",
    "                    [0,0,0,0,17.2],\n",
    "                    [0,0,0,0,0]])"
   ]
  },
  {
   "cell_type": "code",
   "execution_count": 18,
   "id": "fcc8e934",
   "metadata": {},
   "outputs": [],
   "source": [
    "Tcsr = minimum_spanning_tree(matrix)"
   ]
  },
  {
   "cell_type": "code",
   "execution_count": 22,
   "id": "395e3caf",
   "metadata": {},
   "outputs": [
    {
     "data": {
      "text/plain": [
       "36.8"
      ]
     },
     "execution_count": 22,
     "metadata": {},
     "output_type": "execute_result"
    }
   ],
   "source": [
    "Tcsr.toarray().astype(float).sum()"
   ]
  },
  {
   "cell_type": "code",
   "execution_count": 23,
   "id": "b942d9bf",
   "metadata": {},
   "outputs": [],
   "source": [
    "x = Tcsr.toarray().astype(float)"
   ]
  },
  {
   "cell_type": "code",
   "execution_count": 24,
   "id": "738c75e7",
   "metadata": {
    "scrolled": true
   },
   "outputs": [
    {
     "name": "stdout",
     "output_type": "stream",
     "text": [
      "[[ 0.   7.1  0.   0.   0. ]\n",
      " [ 0.   0.   8.3 16.2  0. ]\n",
      " [ 0.   0.   0.   0.   5.2]\n",
      " [ 0.   0.   0.   0.   0. ]\n",
      " [ 0.   0.   0.   0.   0. ]]\n"
     ]
    }
   ],
   "source": [
    "print(x)"
   ]
  },
  {
   "cell_type": "code",
   "execution_count": null,
   "id": "a96f4476",
   "metadata": {},
   "outputs": [],
   "source": []
  }
 ],
 "metadata": {
  "kernelspec": {
   "display_name": "Python 3 (ipykernel)",
   "language": "python",
   "name": "python3"
  },
  "language_info": {
   "codemirror_mode": {
    "name": "ipython",
    "version": 3
   },
   "file_extension": ".py",
   "mimetype": "text/x-python",
   "name": "python",
   "nbconvert_exporter": "python",
   "pygments_lexer": "ipython3",
   "version": "3.11.3"
  }
 },
 "nbformat": 4,
 "nbformat_minor": 5
}
