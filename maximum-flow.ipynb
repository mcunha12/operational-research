{
 "cells": [
  {
   "cell_type": "code",
   "execution_count": 1,
   "id": "c9352632",
   "metadata": {},
   "outputs": [],
   "source": [
    "# Maximize the flow between two vertices in a graph.\n",
    "\n",
    "# Parameters:\n",
    "# csgraphcsr_matrix\n",
    "# The square matrix representing a directed graph whose (i, j)’th entry is an integer representing the capacity of the edge between vertices i and j.\n",
    "\n",
    "# sourceint\n",
    "# The source vertex from which the flow flows.\n",
    "\n",
    "# sinkint\n",
    "# The sink vertex to which the flow flows.\n",
    "\n",
    "# method: {‘edmonds_karp’, ‘dinic’}, optional\n",
    "# The method/algorithm to be used for computing the maximum flow. Following methods are supported,\n",
    "\n",
    "# ‘edmonds_karp’: Edmonds Karp algorithm in [1].\n",
    "\n",
    "# ‘dinic’: Dinic’s algorithm in [4].\n",
    "\n",
    "# Default is ‘dinic’.\n",
    "\n",
    "\n",
    "# Returns:\n",
    "# res\n",
    "# MaximumFlowResult\n",
    "# A maximum flow represented by a MaximumFlowResult which includes the value of the flow in flow_value, and the flow graph in flow.\n",
    "\n",
    "# Raises:\n",
    "# TypeError:\n",
    "# if the input graph is not in CSR format.\n",
    "\n",
    "# ValueError:\n",
    "# if the capacity values are not integers, or the source or sink are out of bounds.\n",
    "\n",
    "# Notes\n",
    "\n",
    "# This solves the maximum flow problem on a given directed weighted graph: A flow associates to every edge a value, also called a flow, less than the capacity of the edge, so that for every vertex (apart from the source and the sink vertices), the total incoming flow is equal to the total outgoing flow. The value of a flow is the sum of the flow of all edges leaving the source vertex, and the maximum flow problem consists of finding a flow whose value is maximal.\n",
    "\n",
    "# By the max-flow min-cut theorem, the maximal value of the flow is also the total weight of the edges in a minimum cut."
   ]
  },
  {
   "cell_type": "code",
   "execution_count": 2,
   "id": "a9aa56fe",
   "metadata": {},
   "outputs": [],
   "source": [
    "from scipy.sparse import csr_matrix\n",
    "from scipy.sparse.csgraph import maximum_flow, reconstruct_path\n",
    "import numpy as np"
   ]
  },
  {
   "cell_type": "code",
   "execution_count": 3,
   "id": "c14446e2",
   "metadata": {},
   "outputs": [],
   "source": [
    "cidades = ['caracas','manaus','brasilia','sao paulo','salvador', 'barreiras']\n",
    "costs = np.array([\n",
    "    [0, 8, 0, 8, 0, 0],\n",
    "    [0, 0, 7, 0, 0, 0],\n",
    "    [0, 0, 0, 0, 0, 9],\n",
    "    [0, 0, 6, 0, 5, 0],\n",
    "    [0, 0, 0, 0, 0, 6],\n",
    "    [0, 0, 0, 0, 0, 0]\n",
    "])"
   ]
  },
  {
   "cell_type": "code",
   "execution_count": 4,
   "id": "e137aba8",
   "metadata": {},
   "outputs": [],
   "source": [
    "rede = csr_matrix(costs)"
   ]
  },
  {
   "cell_type": "code",
   "execution_count": 5,
   "id": "bb44ec04",
   "metadata": {},
   "outputs": [
    {
     "data": {
      "text/plain": [
       "array([[0, 8, 0, 8, 0, 0],\n",
       "       [0, 0, 7, 0, 0, 0],\n",
       "       [0, 0, 0, 0, 0, 9],\n",
       "       [0, 0, 6, 0, 5, 0],\n",
       "       [0, 0, 0, 0, 0, 6],\n",
       "       [0, 0, 0, 0, 0, 0]])"
      ]
     },
     "execution_count": 5,
     "metadata": {},
     "output_type": "execute_result"
    }
   ],
   "source": [
    "rede.toarray()"
   ]
  },
  {
   "cell_type": "code",
   "execution_count": 6,
   "id": "bafc88f5",
   "metadata": {},
   "outputs": [
    {
     "data": {
      "text/plain": [
       "array([[ 0,  7,  0,  7,  0,  0],\n",
       "       [-7,  0,  7,  0,  0,  0],\n",
       "       [ 0, -7,  0, -2,  0,  9],\n",
       "       [-7,  0,  2,  0,  5,  0],\n",
       "       [ 0,  0,  0, -5,  0,  5],\n",
       "       [ 0,  0, -9,  0, -5,  0]], dtype=int32)"
      ]
     },
     "execution_count": 6,
     "metadata": {},
     "output_type": "execute_result"
    }
   ],
   "source": [
    "maximum_flow(rede, 0, 5).flow.toarray()"
   ]
  },
  {
   "cell_type": "code",
   "execution_count": 7,
   "id": "fdb26b78",
   "metadata": {},
   "outputs": [
    {
     "data": {
      "text/plain": [
       "14"
      ]
     },
     "execution_count": 7,
     "metadata": {},
     "output_type": "execute_result"
    }
   ],
   "source": [
    "maximum_flow(rede, 0, 5).flow_value"
   ]
  },
  {
   "cell_type": "code",
   "execution_count": null,
   "id": "5066ecc5",
   "metadata": {},
   "outputs": [],
   "source": []
  },
  {
   "cell_type": "code",
   "execution_count": null,
   "id": "c1d8df95",
   "metadata": {},
   "outputs": [],
   "source": []
  }
 ],
 "metadata": {
  "kernelspec": {
   "display_name": "Python 3 (ipykernel)",
   "language": "python",
   "name": "python3"
  },
  "language_info": {
   "codemirror_mode": {
    "name": "ipython",
    "version": 3
   },
   "file_extension": ".py",
   "mimetype": "text/x-python",
   "name": "python",
   "nbconvert_exporter": "python",
   "pygments_lexer": "ipython3",
   "version": "3.11.3"
  }
 },
 "nbformat": 4,
 "nbformat_minor": 5
}
