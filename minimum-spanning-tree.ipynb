{
 "cells": [
  {
   "cell_type": "code",
   "execution_count": 1,
   "id": "9d77763a",
   "metadata": {},
   "outputs": [],
   "source": [
    "# A minimum spanning tree (MST) is a subset of the edges of a connected, edge-weighted graph that connects all the vertices together without any cycles and with the minimum possible total edge weight."
   ]
  },
  {
   "cell_type": "code",
   "execution_count": 2,
   "id": "2d51c0fe",
   "metadata": {},
   "outputs": [],
   "source": [
    "from scipy.sparse import csr_matrix\n",
    "from scipy.sparse.csgraph import minimum_spanning_tree\n",
    "import numpy as np"
   ]
  },
  {
   "cell_type": "code",
   "execution_count": 3,
   "id": "186af86b",
   "metadata": {},
   "outputs": [],
   "source": [
    "# scipy.sparse.csgraph.minimum_spanning_tree(csgraph, overwrite=False)\n",
    "# Return a minimum spanning tree of an undirected graph\n",
    "\n",
    "# A minimum spanning tree is a graph consisting of the subset of edges which together connect all connected nodes, while minimizing the total sum of weights on the edges. This is computed using the Kruskal algorithm.\n",
    "\n",
    "# Parameters\n",
    "# :\n",
    "# csgraph\n",
    "# array_like or sparse matrix, 2 dimensions\n",
    "# The N x N matrix representing an undirected graph over N nodes (see notes below).\n",
    "\n",
    "# overwrite\n",
    "# bool, optional\n",
    "# If true, then parts of the input graph will be overwritten for efficiency. Default is False.\n",
    "\n",
    "# Returns\n",
    "# :\n",
    "# span_tree\n",
    "# csr matrix\n",
    "# The N x N compressed-sparse representation of the undirected minimum spanning tree over the input (see notes below).\n",
    "\n",
    "# This routine uses undirected graphs as input and output. That is, if graph[i, j] and graph[j, i] are both zero, then nodes i and j do not have an edge connecting them. If either is nonzero, then the two are connected by the minimum nonzero value of the two.\n",
    "\n",
    "# This routine loses precision when users input a dense matrix. Small elements < 1E-8 of the dense matrix are rounded to zero. All users should input sparse matrices if possible to avoid it.\n",
    "\n",
    "# If the graph is not connected, this routine returns the minimum spanning forest, i.e. the union of the minimum spanning trees on each connected component.\n",
    "\n",
    "# If multiple valid solutions are possible, output may vary with SciPy and Python version."
   ]
  },
  {
   "cell_type": "code",
   "execution_count": 4,
   "id": "acfcc4af",
   "metadata": {},
   "outputs": [],
   "source": [
    "# Example\n",
    "\n",
    "# from scipy.sparse import csr_matrix\n",
    "# from scipy.sparse.csgraph import minimum_spanning_tree\n",
    "# X = csr_matrix([[0, 8, 0, 3],\n",
    "#                 [0, 0, 2, 5],\n",
    "#                 [0, 0, 0, 6],\n",
    "#                 [0, 0, 0, 0]])\n",
    "# Tcsr = minimum_spanning_tree(X)\n",
    "# Tcsr.toarray().astype(int)\n",
    "# array([[0, 0, 0, 3],\n",
    "#        [0, 0, 2, 5],\n",
    "#        [0, 0, 0, 0],\n",
    "#        [0, 0, 0, 0]])"
   ]
  },
  {
   "cell_type": "code",
   "execution_count": 5,
   "id": "910daeb6",
   "metadata": {},
   "outputs": [],
   "source": [
    "matrix = csr_matrix([\n",
    "                    [0,224,234,114,466,436,445,461,104,314,452,28,510],\n",
    "                    [0,0,217,191,244,214,295,282,147,108,287,237,301],\n",
    "                    [0,0,0,302,367,378,236,276,146,318,254,228,360],\n",
    "                    [0,0,0,0,425,379,469,467,155,247,467,134,491],\n",
    "                    [0,0,0,0,0,72,241,178,377,188,210,478,102],\n",
    "                    [0,0,0,0,0,0,296,239,358,133,267,450,174],\n",
    "                    [0,0,0,0,0,0,0,68,341,332,34,445,173],\n",
    "                    [0,0,0,0,0,0,0,0,357,296,44,464,105],\n",
    "                    [0,0,0,0,0,0,0,0,0,252,348,108,411],\n",
    "                    [0,0,0,0,0,0,0,0,0,0,313,330,275],\n",
    "                    [0,0,0,0,0,0,0,0,0,0,0,454,139],\n",
    "                    [0,0,0,0,0,0,0,0,0,0,0,0,518],\n",
    "                    [0,0,0,0,0,0,0,0,0,0,0,0,0]])"
   ]
  },
  {
   "cell_type": "code",
   "execution_count": 6,
   "id": "fcc8e934",
   "metadata": {},
   "outputs": [],
   "source": [
    "Tcsr = minimum_spanning_tree(matrix)"
   ]
  },
  {
   "cell_type": "code",
   "execution_count": 7,
   "id": "395e3caf",
   "metadata": {},
   "outputs": [
    {
     "data": {
      "text/plain": [
       "1137"
      ]
     },
     "execution_count": 7,
     "metadata": {},
     "output_type": "execute_result"
    }
   ],
   "source": [
    "Tcsr.toarray().astype(int).sum()"
   ]
  },
  {
   "cell_type": "code",
   "execution_count": 8,
   "id": "b942d9bf",
   "metadata": {},
   "outputs": [],
   "source": [
    "x = Tcsr.toarray().astype(int)"
   ]
  },
  {
   "cell_type": "code",
   "execution_count": 9,
   "id": "738c75e7",
   "metadata": {
    "scrolled": true
   },
   "outputs": [
    {
     "name": "stdout",
     "output_type": "stream",
     "text": [
      "[[  0   0   0 114   0   0   0   0 104   0   0  28   0]\n",
      " [  0   0   0   0   0   0   0   0 147 108   0   0   0]\n",
      " [  0   0   0   0   0   0   0   0 146   0   0   0   0]\n",
      " [  0   0   0   0   0   0   0   0   0   0   0   0   0]\n",
      " [  0   0   0   0   0  72   0   0   0   0   0   0 102]\n",
      " [  0   0   0   0   0   0   0   0   0 133   0   0   0]\n",
      " [  0   0   0   0   0   0   0   0   0   0  34   0   0]\n",
      " [  0   0   0   0   0   0   0   0   0   0  44   0 105]\n",
      " [  0   0   0   0   0   0   0   0   0   0   0   0   0]\n",
      " [  0   0   0   0   0   0   0   0   0   0   0   0   0]\n",
      " [  0   0   0   0   0   0   0   0   0   0   0   0   0]\n",
      " [  0   0   0   0   0   0   0   0   0   0   0   0   0]\n",
      " [  0   0   0   0   0   0   0   0   0   0   0   0   0]]\n"
     ]
    }
   ],
   "source": [
    "print(x)"
   ]
  },
  {
   "cell_type": "code",
   "execution_count": null,
   "id": "a96f4476",
   "metadata": {},
   "outputs": [],
   "source": []
  }
 ],
 "metadata": {
  "kernelspec": {
   "display_name": "Python 3 (ipykernel)",
   "language": "python",
   "name": "python3"
  },
  "language_info": {
   "codemirror_mode": {
    "name": "ipython",
    "version": 3
   },
   "file_extension": ".py",
   "mimetype": "text/x-python",
   "name": "python",
   "nbconvert_exporter": "python",
   "pygments_lexer": "ipython3",
   "version": "3.11.3"
  }
 },
 "nbformat": 4,
 "nbformat_minor": 5
}
